{
  "nbformat": 4,
  "nbformat_minor": 0,
  "metadata": {
    "kernelspec": {
      "display_name": "Python 3",
      "language": "python",
      "name": "python3"
    },
    "language_info": {
      "codemirror_mode": {
        "name": "ipython",
        "version": 3
      },
      "file_extension": ".py",
      "mimetype": "text/x-python",
      "name": "python",
      "nbconvert_exporter": "python",
      "pygments_lexer": "ipython3",
      "version": "3.7.4"
    },
    "colab": {
      "name": "mask_baseline.ipynb",
      "provenance": [],
      "include_colab_link": true
    }
  },
  "cells": [
    {
      "cell_type": "markdown",
      "metadata": {
        "id": "view-in-github",
        "colab_type": "text"
      },
      "source": [
        "<a href=\"https://colab.research.google.com/github/aldoalprak/Mask_NoMask_Classification/blob/master/mask_baseline.ipynb\" target=\"_parent\"><img src=\"https://colab.research.google.com/assets/colab-badge.svg\" alt=\"Open In Colab\"/></a>"
      ]
    },
    {
      "cell_type": "code",
      "metadata": {
        "id": "XbD3HbcecDE0",
        "colab_type": "code",
        "colab": {}
      },
      "source": [
        "%tensorflow_version 2.x"
      ],
      "execution_count": 0,
      "outputs": []
    },
    {
      "cell_type": "code",
      "metadata": {
        "id": "Hni3jdUSXvlx",
        "colab_type": "code",
        "colab": {
          "base_uri": "https://localhost:8080/",
          "height": 34
        },
        "outputId": "9763df8f-5423-4aaa-f003-e95a719bea14"
      },
      "source": [
        "import tensorflow as tf\n",
        "from tensorflow.keras.models import Sequential\n",
        "from tensorflow.keras.layers import Dense, Conv2D, Flatten, Dropout, MaxPooling2D\n",
        "from tensorflow.keras.preprocessing.image import ImageDataGenerator\n",
        "from tensorflow.keras.preprocessing import image\n",
        "\n",
        "import os\n",
        "import pandas as pd\n",
        "import numpy as np\n",
        "import matplotlib.pyplot as plt\n",
        "import matplotlib.image as mpimg\n",
        "\n",
        "from google.colab import drive\n",
        "drive.mount('/content/drive')"
      ],
      "execution_count": 11,
      "outputs": [
        {
          "output_type": "stream",
          "text": [
            "Drive already mounted at /content/drive; to attempt to forcibly remount, call drive.mount(\"/content/drive\", force_remount=True).\n"
          ],
          "name": "stdout"
        }
      ]
    },
    {
      "cell_type": "code",
      "metadata": {
        "id": "Nwa3xFspdIzq",
        "colab_type": "code",
        "colab": {
          "base_uri": "https://localhost:8080/",
          "height": 34
        },
        "outputId": "6e691a12-5cd9-4ae0-b20a-e30d636caa11"
      },
      "source": [
        "!ls  \"/content/drive/My Drive/Mask_Datasets/\""
      ],
      "execution_count": 12,
      "outputs": [
        {
          "output_type": "stream",
          "text": [
            "Train  Validation\n"
          ],
          "name": "stdout"
        }
      ]
    },
    {
      "cell_type": "code",
      "metadata": {
        "id": "FE05kZRYef89",
        "colab_type": "code",
        "colab": {}
      },
      "source": [
        "#define directory\n",
        "\n",
        "base_dir = \"/content/drive/My Drive/Mask_Datasets/\"\n",
        "\n",
        "train_dir = os.path.join(base_dir, \"Train\")\n",
        "train_mask_dir = os.path.join(train_dir, \"Mask\")\n",
        "train_no_mask_dir = os.path.join(train_dir, \"No_mask\")\n",
        "\n",
        "val_dir = os.path.join(base_dir, \"Validation\")\n",
        "val_mask_dir = os.path.join(val_dir, \"Mask\")\n",
        "val_no_mask_dir = os.path.join(val_dir, \"No_mask\")\n"
      ],
      "execution_count": 0,
      "outputs": []
    },
    {
      "cell_type": "code",
      "metadata": {
        "id": "h3Oyi4Kohsfs",
        "colab_type": "code",
        "colab": {
          "base_uri": "https://localhost:8080/",
          "height": 136
        },
        "outputId": "cc5e4cb0-6fce-42b9-ef5a-1f0d7c43b1ef"
      },
      "source": [
        "#Understanding the data\n",
        "\n",
        "num_mask_train = len(os.listdir(train_mask_dir))\n",
        "num_no_mask_train = len(os.listdir(train_no_mask_dir))\n",
        "total_train = num_mask_train + num_no_mask_train\n",
        "\n",
        "num_mask_val = len(os.listdir(val_mask_dir))\n",
        "num_no_mask_val = len(os.listdir(val_no_mask_dir))\n",
        "total_val = num_mask_val + num_no_mask_val\n",
        "\n",
        "print(\"train data: mask ==> \", num_mask_train)\n",
        "print(\"train data: no_mask ==> \", num_no_mask_train)\n",
        "print(\"total train data ==> \", total_train)\n",
        "print(\"                      \")\n",
        "print(\"validation data: mask ==> \", num_mask_val)\n",
        "print(\"validation data: no_mask ==> \", num_no_mask_val)\n",
        "print(\"total validation data ==> \", total_val)\n"
      ],
      "execution_count": 20,
      "outputs": [
        {
          "output_type": "stream",
          "text": [
            "train data: mask ==>  350\n",
            "train data: no_mask ==>  400\n",
            "total train data ==>  750\n",
            "                      \n",
            "val data: mask ==>  150\n",
            "val data: no_mask ==>  200\n",
            "total validation data ==>  350\n"
          ],
          "name": "stdout"
        }
      ]
    }
  ]
}