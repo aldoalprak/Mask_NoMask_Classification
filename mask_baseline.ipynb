{
<<<<<<< HEAD
 "cells": [],
 "metadata": {},
 "nbformat": 4,
 "nbformat_minor": 4
}
=======
  "nbformat": 4,
  "nbformat_minor": 0,
  "metadata": {
    "kernelspec": {
      "name": "python3",
      "display_name": "Python 3"
    },
    "colab": {
      "name": "mask_baseline.ipynb",
      "provenance": []
    }
  },
  "cells": [
    {
      "cell_type": "code",
      "metadata": {
        "id": "T7a7Ie_7Sc1Q",
        "colab_type": "code",
        "colab": {}
      },
      "source": [
        ""
      ],
      "execution_count": 0,
      "outputs": []
    }
  ]
}
>>>>>>> ee98ecbb9ed71df6e321038d49b842a64e37cbf6
